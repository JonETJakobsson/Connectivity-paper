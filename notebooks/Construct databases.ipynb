{
 "cells": [
  {
   "cell_type": "markdown",
   "metadata": {},
   "source": [
    "# Construct all databases\n",
    "Here we will build all databases for all animals investigated in the scConnect paper. As of scConnect version 1.0.3, the default GTF database is 2020-5."
   ]
  },
  {
   "cell_type": "code",
   "execution_count": 2,
   "metadata": {},
   "outputs": [],
   "source": [
    "import scConnect as cn\n",
    "\n",
    "# set version\n",
    "cn.database.version=\"2020-5\""
   ]
  },
  {
   "cell_type": "code",
   "execution_count": 8,
   "metadata": {},
   "outputs": [],
   "source": [
    "species = {\n",
    "    \"Human\": \"hsapiens\",\n",
    "    \"Mouse\": \"mmusculus\", \n",
    "    \"Chicken\": \"ggallus\", \n",
    "    \"Fish\": \"drerio\",\n",
    "    \"Frog\": \"xtropicalis\", \n",
    "    \"Lizard\": \"acarolinensis\", \n",
    "    \"Fly\": \"dmelanogaster\", \n",
    "    \"Nematode\": \"celegans\", \n",
    "    \"Yeast\": \"scerevisiae\"}"
   ]
  },
  {
   "cell_type": "code",
   "execution_count": 18,
   "metadata": {},
   "outputs": [],
   "source": [
    "def build(species=species, organism=\"Human\"):\n",
    "    latin = species[organism]\n",
    "    cn.database.setup_database(organism=latin)\n"
   ]
  },
  {
   "cell_type": "code",
   "execution_count": 19,
   "metadata": {},
   "outputs": [
    {
     "name": "stdout",
     "output_type": "stream",
     "text": [
      "fetching GTF version 2020-5\n"
     ]
    },
    {
     "name": "stderr",
     "output_type": "stream",
     "text": [
      "<ipython-input-18-edff2b8835d8>:3: DtypeWarning: Columns (5,7,8,9,35) have mixed types.Specify dtype option on import or set low_memory=False.\n",
      "  cn.database.setup_database(organism=latin)\n"
     ]
    },
    {
     "name": "stdout",
     "output_type": "stream",
     "text": [
      "getting peptide ligands...\n"
     ]
    },
    {
     "name": "stderr",
     "output_type": "stream",
     "text": [
      "<ipython-input-18-edff2b8835d8>:3: DtypeWarning: Columns (6,8,9,10,36) have mixed types.Specify dtype option on import or set low_memory=False.\n",
      "  cn.database.setup_database(organism=latin)\n"
     ]
    },
    {
     "name": "stdout",
     "output_type": "stream",
     "text": [
      "found 405 peptide ligands\n",
      "getting molecule ligands...\n"
     ]
    },
    {
     "name": "stderr",
     "output_type": "stream",
     "text": [
      "c:\\users\\jonja158\\anaconda3\\envs\\connect\\lib\\site-packages\\numpy\\core\\_asarray.py:83: VisibleDeprecationWarning: Creating an ndarray from ragged nested sequences (which is a list-or-tuple of lists-or-tuples-or ndarrays with different lengths or shapes) is deprecated. If you meant to do this, you must specify 'dtype=object' when creating the ndarray\n",
      "  return array(a, dtype, copy=False, order=order)\n",
      "c:\\users\\jonja158\\anaconda3\\envs\\connect\\lib\\site-packages\\numpy\\core\\_asarray.py:83: VisibleDeprecationWarning: Creating an ndarray from ragged nested sequences (which is a list-or-tuple of lists-or-tuples-or ndarrays with different lengths or shapes) is deprecated. If you meant to do this, you must specify 'dtype=object' when creating the ndarray\n",
      "  return array(a, dtype, copy=False, order=order)\n",
      "c:\\users\\jonja158\\anaconda3\\envs\\connect\\lib\\site-packages\\numpy\\core\\_asarray.py:83: VisibleDeprecationWarning: Creating an ndarray from ragged nested sequences (which is a list-or-tuple of lists-or-tuples-or ndarrays with different lengths or shapes) is deprecated. If you meant to do this, you must specify 'dtype=object' when creating the ndarray\n",
      "  return array(a, dtype, copy=False, order=order)\n",
      "c:\\users\\jonja158\\anaconda3\\envs\\connect\\lib\\site-packages\\numpy\\core\\_asarray.py:83: VisibleDeprecationWarning: Creating an ndarray from ragged nested sequences (which is a list-or-tuple of lists-or-tuples-or ndarrays with different lengths or shapes) is deprecated. If you meant to do this, you must specify 'dtype=object' when creating the ndarray\n",
      "  return array(a, dtype, copy=False, order=order)\n"
     ]
    },
    {
     "name": "stdout",
     "output_type": "stream",
     "text": [
      "found 8 molecular ligands\n",
      "merging ligands...\n",
      "getting receptors...\n",
      "found 3064 receptors\n",
      "enzyme                1285\n",
      "transporter            555\n",
      "gpcr                   407\n",
      "catalytic_receptor     252\n",
      "other_protein          237\n",
      "vgic                   145\n",
      "lgic                    81\n",
      "other_ic                53\n",
      "nhr                     49\n",
      "Name: type, dtype: int64\n",
      "getting interactions...\n",
      "Database build complete\n"
     ]
    },
    {
     "name": "stderr",
     "output_type": "stream",
     "text": [
      "<ipython-input-18-edff2b8835d8>:3: DtypeWarning: Columns (6,8,9,10,36) have mixed types.Specify dtype option on import or set low_memory=False.\n",
      "  cn.database.setup_database(organism=latin)\n"
     ]
    }
   ],
   "source": [
    "build(species, \"Human\")"
   ]
  },
  {
   "cell_type": "code",
   "execution_count": 20,
   "metadata": {},
   "outputs": [
    {
     "name": "stderr",
     "output_type": "stream",
     "text": [
      "<ipython-input-18-edff2b8835d8>:3: DtypeWarning: Columns (5,7,8,9,35) have mixed types.Specify dtype option on import or set low_memory=False.\n",
      "  cn.database.setup_database(organism=latin)\n"
     ]
    },
    {
     "name": "stdout",
     "output_type": "stream",
     "text": [
      "fetching GTF version 2020-5\n",
      "getting peptide ligands...\n"
     ]
    },
    {
     "name": "stderr",
     "output_type": "stream",
     "text": [
      "<ipython-input-18-edff2b8835d8>:3: DtypeWarning: Columns (6,8,9,10,36) have mixed types.Specify dtype option on import or set low_memory=False.\n",
      "  cn.database.setup_database(organism=latin)\n"
     ]
    },
    {
     "name": "stdout",
     "output_type": "stream",
     "text": [
      "found 362 peptide ligands\n",
      "getting molecule ligands...\n",
      "found 8 molecular ligands\n",
      "merging ligands...\n",
      "getting receptors...\n",
      "found 2925 receptors\n",
      "enzyme                1242\n",
      "transporter            531\n",
      "gpcr                   372\n",
      "catalytic_receptor     242\n",
      "other_protein          222\n",
      "vgic                   142\n",
      "lgic                    76\n",
      "other_ic                50\n",
      "nhr                     48\n",
      "Name: type, dtype: int64\n",
      "getting interactions...\n",
      "Database build complete\n"
     ]
    },
    {
     "name": "stderr",
     "output_type": "stream",
     "text": [
      "<ipython-input-18-edff2b8835d8>:3: DtypeWarning: Columns (6,8,9,10,36) have mixed types.Specify dtype option on import or set low_memory=False.\n",
      "  cn.database.setup_database(organism=latin)\n"
     ]
    }
   ],
   "source": [
    "build(species, \"Mouse\")"
   ]
  },
  {
   "cell_type": "code",
   "execution_count": 21,
   "metadata": {},
   "outputs": [
    {
     "name": "stdout",
     "output_type": "stream",
     "text": [
      "fetching GTF version 2020-5\n"
     ]
    },
    {
     "name": "stderr",
     "output_type": "stream",
     "text": [
      "<ipython-input-18-edff2b8835d8>:3: DtypeWarning: Columns (5,7,8,9,35) have mixed types.Specify dtype option on import or set low_memory=False.\n",
      "  cn.database.setup_database(organism=latin)\n"
     ]
    },
    {
     "name": "stdout",
     "output_type": "stream",
     "text": [
      "getting peptide ligands...\n"
     ]
    },
    {
     "name": "stderr",
     "output_type": "stream",
     "text": [
      "<ipython-input-18-edff2b8835d8>:3: DtypeWarning: Columns (6,8,9,10,36) have mixed types.Specify dtype option on import or set low_memory=False.\n",
      "  cn.database.setup_database(organism=latin)\n"
     ]
    },
    {
     "name": "stdout",
     "output_type": "stream",
     "text": [
      "found 248 peptide ligands\n",
      "getting molecule ligands...\n"
     ]
    },
    {
     "name": "stderr",
     "output_type": "stream",
     "text": [
      "c:\\users\\jonja158\\anaconda3\\envs\\connect\\lib\\site-packages\\numpy\\core\\_asarray.py:83: VisibleDeprecationWarning: Creating an ndarray from ragged nested sequences (which is a list-or-tuple of lists-or-tuples-or ndarrays with different lengths or shapes) is deprecated. If you meant to do this, you must specify 'dtype=object' when creating the ndarray\n",
      "  return array(a, dtype, copy=False, order=order)\n",
      "c:\\users\\jonja158\\anaconda3\\envs\\connect\\lib\\site-packages\\numpy\\core\\_asarray.py:83: VisibleDeprecationWarning: Creating an ndarray from ragged nested sequences (which is a list-or-tuple of lists-or-tuples-or ndarrays with different lengths or shapes) is deprecated. If you meant to do this, you must specify 'dtype=object' when creating the ndarray\n",
      "  return array(a, dtype, copy=False, order=order)\n",
      "c:\\users\\jonja158\\anaconda3\\envs\\connect\\lib\\site-packages\\numpy\\core\\_asarray.py:83: VisibleDeprecationWarning: Creating an ndarray from ragged nested sequences (which is a list-or-tuple of lists-or-tuples-or ndarrays with different lengths or shapes) is deprecated. If you meant to do this, you must specify 'dtype=object' when creating the ndarray\n",
      "  return array(a, dtype, copy=False, order=order)\n",
      "c:\\users\\jonja158\\anaconda3\\envs\\connect\\lib\\site-packages\\numpy\\core\\_asarray.py:83: VisibleDeprecationWarning: Creating an ndarray from ragged nested sequences (which is a list-or-tuple of lists-or-tuples-or ndarrays with different lengths or shapes) is deprecated. If you meant to do this, you must specify 'dtype=object' when creating the ndarray\n",
      "  return array(a, dtype, copy=False, order=order)\n"
     ]
    },
    {
     "name": "stdout",
     "output_type": "stream",
     "text": [
      "found 6 molecular ligands\n",
      "merging ligands...\n",
      "getting receptors...\n",
      "found 2421 receptors\n",
      "enzyme                1065\n",
      "transporter            443\n",
      "gpcr                   287\n",
      "catalytic_receptor     194\n",
      "other_protein          163\n",
      "vgic                   117\n",
      "lgic                    67\n",
      "other_ic                43\n",
      "nhr                     42\n",
      "Name: type, dtype: int64\n",
      "getting interactions...\n",
      "Database build complete\n"
     ]
    },
    {
     "name": "stderr",
     "output_type": "stream",
     "text": [
      "<ipython-input-18-edff2b8835d8>:3: DtypeWarning: Columns (6,8,9,10,36) have mixed types.Specify dtype option on import or set low_memory=False.\n",
      "  cn.database.setup_database(organism=latin)\n"
     ]
    }
   ],
   "source": [
    "build(species, \"Chicken\")"
   ]
  },
  {
   "cell_type": "code",
   "execution_count": 22,
   "metadata": {},
   "outputs": [
    {
     "name": "stdout",
     "output_type": "stream",
     "text": [
      "fetching GTF version 2020-5\n"
     ]
    },
    {
     "name": "stderr",
     "output_type": "stream",
     "text": [
      "<ipython-input-18-edff2b8835d8>:3: DtypeWarning: Columns (5,7,8,9,35) have mixed types.Specify dtype option on import or set low_memory=False.\n",
      "  cn.database.setup_database(organism=latin)\n"
     ]
    },
    {
     "name": "stdout",
     "output_type": "stream",
     "text": [
      "getting peptide ligands...\n"
     ]
    },
    {
     "name": "stderr",
     "output_type": "stream",
     "text": [
      "<ipython-input-18-edff2b8835d8>:3: DtypeWarning: Columns (6,8,9,10,36) have mixed types.Specify dtype option on import or set low_memory=False.\n",
      "  cn.database.setup_database(organism=latin)\n"
     ]
    },
    {
     "name": "stdout",
     "output_type": "stream",
     "text": [
      "found 243 peptide ligands\n",
      "getting molecule ligands...\n"
     ]
    },
    {
     "name": "stderr",
     "output_type": "stream",
     "text": [
      "c:\\users\\jonja158\\anaconda3\\envs\\connect\\lib\\site-packages\\numpy\\core\\_asarray.py:83: VisibleDeprecationWarning: Creating an ndarray from ragged nested sequences (which is a list-or-tuple of lists-or-tuples-or ndarrays with different lengths or shapes) is deprecated. If you meant to do this, you must specify 'dtype=object' when creating the ndarray\n",
      "  return array(a, dtype, copy=False, order=order)\n",
      "c:\\users\\jonja158\\anaconda3\\envs\\connect\\lib\\site-packages\\numpy\\core\\_asarray.py:83: VisibleDeprecationWarning: Creating an ndarray from ragged nested sequences (which is a list-or-tuple of lists-or-tuples-or ndarrays with different lengths or shapes) is deprecated. If you meant to do this, you must specify 'dtype=object' when creating the ndarray\n",
      "  return array(a, dtype, copy=False, order=order)\n",
      "c:\\users\\jonja158\\anaconda3\\envs\\connect\\lib\\site-packages\\numpy\\core\\_asarray.py:83: VisibleDeprecationWarning: Creating an ndarray from ragged nested sequences (which is a list-or-tuple of lists-or-tuples-or ndarrays with different lengths or shapes) is deprecated. If you meant to do this, you must specify 'dtype=object' when creating the ndarray\n",
      "  return array(a, dtype, copy=False, order=order)\n",
      "c:\\users\\jonja158\\anaconda3\\envs\\connect\\lib\\site-packages\\numpy\\core\\_asarray.py:83: VisibleDeprecationWarning: Creating an ndarray from ragged nested sequences (which is a list-or-tuple of lists-or-tuples-or ndarrays with different lengths or shapes) is deprecated. If you meant to do this, you must specify 'dtype=object' when creating the ndarray\n",
      "  return array(a, dtype, copy=False, order=order)\n"
     ]
    },
    {
     "name": "stdout",
     "output_type": "stream",
     "text": [
      "found 8 molecular ligands\n",
      "merging ligands...\n",
      "getting receptors...\n",
      "found 2433 receptors\n",
      "enzyme                1070\n",
      "transporter            448\n",
      "gpcr                   315\n",
      "catalytic_receptor     172\n",
      "other_protein          149\n",
      "vgic                   116\n",
      "lgic                    68\n",
      "other_ic                51\n",
      "nhr                     44\n",
      "Name: type, dtype: int64\n",
      "getting interactions...\n",
      "Database build complete\n"
     ]
    },
    {
     "name": "stderr",
     "output_type": "stream",
     "text": [
      "<ipython-input-18-edff2b8835d8>:3: DtypeWarning: Columns (6,8,9,10,36) have mixed types.Specify dtype option on import or set low_memory=False.\n",
      "  cn.database.setup_database(organism=latin)\n"
     ]
    }
   ],
   "source": [
    "build(species, \"Frog\")"
   ]
  },
  {
   "cell_type": "code",
   "execution_count": 25,
   "metadata": {},
   "outputs": [
    {
     "name": "stderr",
     "output_type": "stream",
     "text": [
      "<ipython-input-18-edff2b8835d8>:3: DtypeWarning: Columns (5,7,8,9,35) have mixed types.Specify dtype option on import or set low_memory=False.\n",
      "  cn.database.setup_database(organism=latin)\n"
     ]
    },
    {
     "name": "stdout",
     "output_type": "stream",
     "text": [
      "fetching GTF version 2020-5\n",
      "getting peptide ligands...\n"
     ]
    },
    {
     "name": "stderr",
     "output_type": "stream",
     "text": [
      "<ipython-input-18-edff2b8835d8>:3: DtypeWarning: Columns (6,8,9,10,36) have mixed types.Specify dtype option on import or set low_memory=False.\n",
      "  cn.database.setup_database(organism=latin)\n"
     ]
    },
    {
     "name": "stdout",
     "output_type": "stream",
     "text": [
      "found 207 peptide ligands\n",
      "getting molecule ligands...\n"
     ]
    },
    {
     "name": "stderr",
     "output_type": "stream",
     "text": [
      "c:\\users\\jonja158\\anaconda3\\envs\\connect\\lib\\site-packages\\numpy\\core\\_asarray.py:83: VisibleDeprecationWarning: Creating an ndarray from ragged nested sequences (which is a list-or-tuple of lists-or-tuples-or ndarrays with different lengths or shapes) is deprecated. If you meant to do this, you must specify 'dtype=object' when creating the ndarray\n",
      "  return array(a, dtype, copy=False, order=order)\n",
      "c:\\users\\jonja158\\anaconda3\\envs\\connect\\lib\\site-packages\\numpy\\core\\_asarray.py:83: VisibleDeprecationWarning: Creating an ndarray from ragged nested sequences (which is a list-or-tuple of lists-or-tuples-or ndarrays with different lengths or shapes) is deprecated. If you meant to do this, you must specify 'dtype=object' when creating the ndarray\n",
      "  return array(a, dtype, copy=False, order=order)\n",
      "c:\\users\\jonja158\\anaconda3\\envs\\connect\\lib\\site-packages\\numpy\\core\\_asarray.py:83: VisibleDeprecationWarning: Creating an ndarray from ragged nested sequences (which is a list-or-tuple of lists-or-tuples-or ndarrays with different lengths or shapes) is deprecated. If you meant to do this, you must specify 'dtype=object' when creating the ndarray\n",
      "  return array(a, dtype, copy=False, order=order)\n",
      "c:\\users\\jonja158\\anaconda3\\envs\\connect\\lib\\site-packages\\numpy\\core\\_asarray.py:83: VisibleDeprecationWarning: Creating an ndarray from ragged nested sequences (which is a list-or-tuple of lists-or-tuples-or ndarrays with different lengths or shapes) is deprecated. If you meant to do this, you must specify 'dtype=object' when creating the ndarray\n",
      "  return array(a, dtype, copy=False, order=order)\n"
     ]
    },
    {
     "name": "stdout",
     "output_type": "stream",
     "text": [
      "found 6 molecular ligands\n",
      "merging ligands...\n",
      "getting receptors...\n",
      "found 2489 receptors\n",
      "enzyme                1116\n",
      "transporter            466\n",
      "gpcr                   292\n",
      "catalytic_receptor     185\n",
      "other_protein          151\n",
      "vgic                   129\n",
      "lgic                    64\n",
      "nhr                     45\n",
      "other_ic                41\n",
      "Name: type, dtype: int64\n",
      "getting interactions...\n",
      "Database build complete\n"
     ]
    },
    {
     "name": "stderr",
     "output_type": "stream",
     "text": [
      "<ipython-input-18-edff2b8835d8>:3: DtypeWarning: Columns (6,8,9,10,36) have mixed types.Specify dtype option on import or set low_memory=False.\n",
      "  cn.database.setup_database(organism=latin)\n"
     ]
    }
   ],
   "source": [
    "build(species, \"Lizard\")"
   ]
  },
  {
   "cell_type": "code",
   "execution_count": 24,
   "metadata": {},
   "outputs": [
    {
     "name": "stdout",
     "output_type": "stream",
     "text": [
      "fetching GTF version 2020-5\n"
     ]
    },
    {
     "name": "stderr",
     "output_type": "stream",
     "text": [
      "<ipython-input-18-edff2b8835d8>:3: DtypeWarning: Columns (5,7,8,9,35) have mixed types.Specify dtype option on import or set low_memory=False.\n",
      "  cn.database.setup_database(organism=latin)\n"
     ]
    },
    {
     "name": "stdout",
     "output_type": "stream",
     "text": [
      "getting peptide ligands...\n"
     ]
    },
    {
     "name": "stderr",
     "output_type": "stream",
     "text": [
      "<ipython-input-18-edff2b8835d8>:3: DtypeWarning: Columns (6,8,9,10,36) have mixed types.Specify dtype option on import or set low_memory=False.\n",
      "  cn.database.setup_database(organism=latin)\n"
     ]
    },
    {
     "name": "stdout",
     "output_type": "stream",
     "text": [
      "found 248 peptide ligands\n",
      "getting molecule ligands...\n"
     ]
    },
    {
     "name": "stderr",
     "output_type": "stream",
     "text": [
      "c:\\users\\jonja158\\anaconda3\\envs\\connect\\lib\\site-packages\\numpy\\core\\_asarray.py:83: VisibleDeprecationWarning: Creating an ndarray from ragged nested sequences (which is a list-or-tuple of lists-or-tuples-or ndarrays with different lengths or shapes) is deprecated. If you meant to do this, you must specify 'dtype=object' when creating the ndarray\n",
      "  return array(a, dtype, copy=False, order=order)\n",
      "c:\\users\\jonja158\\anaconda3\\envs\\connect\\lib\\site-packages\\numpy\\core\\_asarray.py:83: VisibleDeprecationWarning: Creating an ndarray from ragged nested sequences (which is a list-or-tuple of lists-or-tuples-or ndarrays with different lengths or shapes) is deprecated. If you meant to do this, you must specify 'dtype=object' when creating the ndarray\n",
      "  return array(a, dtype, copy=False, order=order)\n",
      "c:\\users\\jonja158\\anaconda3\\envs\\connect\\lib\\site-packages\\numpy\\core\\_asarray.py:83: VisibleDeprecationWarning: Creating an ndarray from ragged nested sequences (which is a list-or-tuple of lists-or-tuples-or ndarrays with different lengths or shapes) is deprecated. If you meant to do this, you must specify 'dtype=object' when creating the ndarray\n",
      "  return array(a, dtype, copy=False, order=order)\n",
      "c:\\users\\jonja158\\anaconda3\\envs\\connect\\lib\\site-packages\\numpy\\core\\_asarray.py:83: VisibleDeprecationWarning: Creating an ndarray from ragged nested sequences (which is a list-or-tuple of lists-or-tuples-or ndarrays with different lengths or shapes) is deprecated. If you meant to do this, you must specify 'dtype=object' when creating the ndarray\n",
      "  return array(a, dtype, copy=False, order=order)\n"
     ]
    },
    {
     "name": "stdout",
     "output_type": "stream",
     "text": [
      "found 8 molecular ligands\n",
      "merging ligands...\n",
      "getting receptors...\n",
      "found 2369 receptors\n",
      "enzyme                1069\n",
      "transporter            436\n",
      "gpcr                   300\n",
      "catalytic_receptor     151\n",
      "other_protein          148\n",
      "vgic                   111\n",
      "lgic                    66\n",
      "other_ic                46\n",
      "nhr                     42\n",
      "Name: type, dtype: int64\n",
      "getting interactions...\n",
      "Database build complete\n"
     ]
    },
    {
     "name": "stderr",
     "output_type": "stream",
     "text": [
      "<ipython-input-18-edff2b8835d8>:3: DtypeWarning: Columns (6,8,9,10,36) have mixed types.Specify dtype option on import or set low_memory=False.\n",
      "  cn.database.setup_database(organism=latin)\n"
     ]
    }
   ],
   "source": [
    "build(species, \"Fish\")"
   ]
  },
  {
   "cell_type": "code",
   "execution_count": 26,
   "metadata": {},
   "outputs": [
    {
     "name": "stdout",
     "output_type": "stream",
     "text": [
      "fetching GTF version 2020-5\n"
     ]
    },
    {
     "name": "stderr",
     "output_type": "stream",
     "text": [
      "<ipython-input-18-edff2b8835d8>:3: DtypeWarning: Columns (5,7,8,9,35) have mixed types.Specify dtype option on import or set low_memory=False.\n",
      "  cn.database.setup_database(organism=latin)\n"
     ]
    },
    {
     "name": "stdout",
     "output_type": "stream",
     "text": [
      "getting peptide ligands...\n"
     ]
    },
    {
     "name": "stderr",
     "output_type": "stream",
     "text": [
      "<ipython-input-18-edff2b8835d8>:3: DtypeWarning: Columns (6,8,9,10,36) have mixed types.Specify dtype option on import or set low_memory=False.\n",
      "  cn.database.setup_database(organism=latin)\n"
     ]
    },
    {
     "name": "stdout",
     "output_type": "stream",
     "text": [
      "found 14 peptide ligands\n",
      "getting molecule ligands...\n"
     ]
    },
    {
     "name": "stderr",
     "output_type": "stream",
     "text": [
      "c:\\users\\jonja158\\anaconda3\\envs\\connect\\lib\\site-packages\\numpy\\core\\_asarray.py:83: VisibleDeprecationWarning: Creating an ndarray from ragged nested sequences (which is a list-or-tuple of lists-or-tuples-or ndarrays with different lengths or shapes) is deprecated. If you meant to do this, you must specify 'dtype=object' when creating the ndarray\n",
      "  return array(a, dtype, copy=False, order=order)\n",
      "c:\\users\\jonja158\\anaconda3\\envs\\connect\\lib\\site-packages\\numpy\\core\\_asarray.py:83: VisibleDeprecationWarning: Creating an ndarray from ragged nested sequences (which is a list-or-tuple of lists-or-tuples-or ndarrays with different lengths or shapes) is deprecated. If you meant to do this, you must specify 'dtype=object' when creating the ndarray\n",
      "  return array(a, dtype, copy=False, order=order)\n",
      "c:\\users\\jonja158\\anaconda3\\envs\\connect\\lib\\site-packages\\numpy\\core\\_asarray.py:83: VisibleDeprecationWarning: Creating an ndarray from ragged nested sequences (which is a list-or-tuple of lists-or-tuples-or ndarrays with different lengths or shapes) is deprecated. If you meant to do this, you must specify 'dtype=object' when creating the ndarray\n",
      "  return array(a, dtype, copy=False, order=order)\n",
      "c:\\users\\jonja158\\anaconda3\\envs\\connect\\lib\\site-packages\\numpy\\core\\_asarray.py:83: VisibleDeprecationWarning: Creating an ndarray from ragged nested sequences (which is a list-or-tuple of lists-or-tuples-or ndarrays with different lengths or shapes) is deprecated. If you meant to do this, you must specify 'dtype=object' when creating the ndarray\n",
      "  return array(a, dtype, copy=False, order=order)\n"
     ]
    },
    {
     "name": "stdout",
     "output_type": "stream",
     "text": [
      "found 0 molecular ligands\n",
      "merging ligands...\n",
      "getting receptors...\n",
      "found 1211 receptors\n",
      "enzyme                642\n",
      "transporter           305\n",
      "other_protein          62\n",
      "gpcr                   60\n",
      "vgic                   54\n",
      "other_ic               28\n",
      "nhr                    27\n",
      "catalytic_receptor     22\n",
      "lgic                   11\n",
      "Name: type, dtype: int64\n",
      "getting interactions...\n",
      "Database build complete\n"
     ]
    },
    {
     "name": "stderr",
     "output_type": "stream",
     "text": [
      "<ipython-input-18-edff2b8835d8>:3: DtypeWarning: Columns (6,8,9,10,36) have mixed types.Specify dtype option on import or set low_memory=False.\n",
      "  cn.database.setup_database(organism=latin)\n"
     ]
    }
   ],
   "source": [
    "build(species, \"Fly\")"
   ]
  },
  {
   "cell_type": "code",
   "execution_count": 27,
   "metadata": {},
   "outputs": [
    {
     "name": "stdout",
     "output_type": "stream",
     "text": [
      "fetching GTF version 2020-5\n"
     ]
    },
    {
     "name": "stderr",
     "output_type": "stream",
     "text": [
      "<ipython-input-18-edff2b8835d8>:3: DtypeWarning: Columns (5,7,8,9,35) have mixed types.Specify dtype option on import or set low_memory=False.\n",
      "  cn.database.setup_database(organism=latin)\n"
     ]
    },
    {
     "name": "stdout",
     "output_type": "stream",
     "text": [
      "getting peptide ligands...\n"
     ]
    },
    {
     "name": "stderr",
     "output_type": "stream",
     "text": [
      "<ipython-input-18-edff2b8835d8>:3: DtypeWarning: Columns (6,8,9,10,36) have mixed types.Specify dtype option on import or set low_memory=False.\n",
      "  cn.database.setup_database(organism=latin)\n"
     ]
    },
    {
     "name": "stdout",
     "output_type": "stream",
     "text": [
      "found 11 peptide ligands\n",
      "getting molecule ligands...\n"
     ]
    },
    {
     "name": "stderr",
     "output_type": "stream",
     "text": [
      "c:\\users\\jonja158\\anaconda3\\envs\\connect\\lib\\site-packages\\numpy\\core\\_asarray.py:83: VisibleDeprecationWarning: Creating an ndarray from ragged nested sequences (which is a list-or-tuple of lists-or-tuples-or ndarrays with different lengths or shapes) is deprecated. If you meant to do this, you must specify 'dtype=object' when creating the ndarray\n",
      "  return array(a, dtype, copy=False, order=order)\n",
      "c:\\users\\jonja158\\anaconda3\\envs\\connect\\lib\\site-packages\\numpy\\core\\_asarray.py:83: VisibleDeprecationWarning: Creating an ndarray from ragged nested sequences (which is a list-or-tuple of lists-or-tuples-or ndarrays with different lengths or shapes) is deprecated. If you meant to do this, you must specify 'dtype=object' when creating the ndarray\n",
      "  return array(a, dtype, copy=False, order=order)\n",
      "c:\\users\\jonja158\\anaconda3\\envs\\connect\\lib\\site-packages\\numpy\\core\\_asarray.py:83: VisibleDeprecationWarning: Creating an ndarray from ragged nested sequences (which is a list-or-tuple of lists-or-tuples-or ndarrays with different lengths or shapes) is deprecated. If you meant to do this, you must specify 'dtype=object' when creating the ndarray\n",
      "  return array(a, dtype, copy=False, order=order)\n",
      "c:\\users\\jonja158\\anaconda3\\envs\\connect\\lib\\site-packages\\numpy\\core\\_asarray.py:83: VisibleDeprecationWarning: Creating an ndarray from ragged nested sequences (which is a list-or-tuple of lists-or-tuples-or ndarrays with different lengths or shapes) is deprecated. If you meant to do this, you must specify 'dtype=object' when creating the ndarray\n",
      "  return array(a, dtype, copy=False, order=order)\n"
     ]
    },
    {
     "name": "stdout",
     "output_type": "stream",
     "text": [
      "found 2 molecular ligands\n",
      "merging ligands...\n",
      "getting receptors...\n",
      "found 1153 receptors\n",
      "enzyme                622\n",
      "transporter           299\n",
      "other_protein          58\n",
      "vgic                   54\n",
      "gpcr                   47\n",
      "catalytic_receptor     24\n",
      "other_ic               21\n",
      "nhr                    17\n",
      "lgic                   11\n",
      "Name: type, dtype: int64\n",
      "getting interactions...\n",
      "Database build complete\n"
     ]
    },
    {
     "name": "stderr",
     "output_type": "stream",
     "text": [
      "<ipython-input-18-edff2b8835d8>:3: DtypeWarning: Columns (6,8,9,10,36) have mixed types.Specify dtype option on import or set low_memory=False.\n",
      "  cn.database.setup_database(organism=latin)\n"
     ]
    }
   ],
   "source": [
    "build(species, \"Nematode\")"
   ]
  },
  {
   "cell_type": "code",
   "execution_count": 28,
   "metadata": {},
   "outputs": [
    {
     "name": "stdout",
     "output_type": "stream",
     "text": [
      "fetching GTF version 2020-5\n"
     ]
    },
    {
     "name": "stderr",
     "output_type": "stream",
     "text": [
      "<ipython-input-18-edff2b8835d8>:3: DtypeWarning: Columns (5,7,8,9,35) have mixed types.Specify dtype option on import or set low_memory=False.\n",
      "  cn.database.setup_database(organism=latin)\n"
     ]
    },
    {
     "name": "stdout",
     "output_type": "stream",
     "text": [
      "getting peptide ligands...\n"
     ]
    },
    {
     "name": "stderr",
     "output_type": "stream",
     "text": [
      "<ipython-input-18-edff2b8835d8>:3: DtypeWarning: Columns (6,8,9,10,36) have mixed types.Specify dtype option on import or set low_memory=False.\n",
      "  cn.database.setup_database(organism=latin)\n"
     ]
    },
    {
     "name": "stdout",
     "output_type": "stream",
     "text": [
      "found 1 peptide ligands\n",
      "getting molecule ligands...\n"
     ]
    },
    {
     "name": "stderr",
     "output_type": "stream",
     "text": [
      "c:\\users\\jonja158\\anaconda3\\envs\\connect\\lib\\site-packages\\numpy\\core\\_asarray.py:83: VisibleDeprecationWarning: Creating an ndarray from ragged nested sequences (which is a list-or-tuple of lists-or-tuples-or ndarrays with different lengths or shapes) is deprecated. If you meant to do this, you must specify 'dtype=object' when creating the ndarray\n",
      "  return array(a, dtype, copy=False, order=order)\n",
      "c:\\users\\jonja158\\anaconda3\\envs\\connect\\lib\\site-packages\\numpy\\core\\_asarray.py:83: VisibleDeprecationWarning: Creating an ndarray from ragged nested sequences (which is a list-or-tuple of lists-or-tuples-or ndarrays with different lengths or shapes) is deprecated. If you meant to do this, you must specify 'dtype=object' when creating the ndarray\n",
      "  return array(a, dtype, copy=False, order=order)\n",
      "c:\\users\\jonja158\\anaconda3\\envs\\connect\\lib\\site-packages\\numpy\\core\\_asarray.py:83: VisibleDeprecationWarning: Creating an ndarray from ragged nested sequences (which is a list-or-tuple of lists-or-tuples-or ndarrays with different lengths or shapes) is deprecated. If you meant to do this, you must specify 'dtype=object' when creating the ndarray\n",
      "  return array(a, dtype, copy=False, order=order)\n",
      "c:\\users\\jonja158\\anaconda3\\envs\\connect\\lib\\site-packages\\numpy\\core\\_asarray.py:83: VisibleDeprecationWarning: Creating an ndarray from ragged nested sequences (which is a list-or-tuple of lists-or-tuples-or ndarrays with different lengths or shapes) is deprecated. If you meant to do this, you must specify 'dtype=object' when creating the ndarray\n",
      "  return array(a, dtype, copy=False, order=order)\n"
     ]
    },
    {
     "name": "stdout",
     "output_type": "stream",
     "text": [
      "found 0 molecular ligands\n",
      "merging ligands...\n",
      "getting receptors...\n",
      "found 573 receptors\n",
      "enzyme                330\n",
      "transporter           189\n",
      "other_protein          29\n",
      "vgic                   20\n",
      "catalytic_receptor      3\n",
      "gpcr                    1\n",
      "other_ic                1\n",
      "Name: type, dtype: int64\n",
      "getting interactions...\n",
      "Database build complete\n"
     ]
    },
    {
     "name": "stderr",
     "output_type": "stream",
     "text": [
      "<ipython-input-18-edff2b8835d8>:3: DtypeWarning: Columns (6,8,9,10,36) have mixed types.Specify dtype option on import or set low_memory=False.\n",
      "  cn.database.setup_database(organism=latin)\n"
     ]
    }
   ],
   "source": [
    "build(species, \"Yeast\")"
   ]
  },
  {
   "cell_type": "code",
   "execution_count": null,
   "metadata": {},
   "outputs": [],
   "source": []
  }
 ],
 "metadata": {
  "kernelspec": {
   "display_name": "Python 3",
   "language": "python",
   "name": "python3"
  },
  "language_info": {
   "codemirror_mode": {
    "name": "ipython",
    "version": 3
   },
   "file_extension": ".py",
   "mimetype": "text/x-python",
   "name": "python",
   "nbconvert_exporter": "python",
   "pygments_lexer": "ipython3",
   "version": "3.8.6"
  }
 },
 "nbformat": 4,
 "nbformat_minor": 4
}
